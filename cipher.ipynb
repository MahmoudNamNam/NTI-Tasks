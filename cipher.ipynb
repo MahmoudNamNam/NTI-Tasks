{
 "cells": [
  {
   "cell_type": "code",
   "execution_count": 19,
   "metadata": {},
   "outputs": [
    {
     "name": "stdout",
     "output_type": "stream",
     "text": [
      "Encoded: Y29tbW9uIHNlbnNlIGlzIG5vdCBzbyBjb21tb24=\n",
      "Decoded: common sense is not so common\n"
     ]
    }
   ],
   "source": [
    "import base64\n",
    "\n",
    "phrase = \"common sense is not so common\"\n",
    "\n",
    "# Encoding the phrase\n",
    "encoded_phrase = base64.b64encode(phrase.encode()).decode()\n",
    "\n",
    "print(\"Encoded:\", encoded_phrase)\n",
    "\n",
    "# Decoding the phrase\n",
    "decoded_phrase = base64.b64decode(encoded_phrase).decode()\n",
    "\n",
    "print(\"Decoded:\", decoded_phrase)\n"
   ]
  },
  {
   "cell_type": "code",
   "execution_count": 12,
   "metadata": {},
   "outputs": [],
   "source": [
    "def transposition_cipher(plain_text, key):\n",
    "    # Calculate the number of rows in the transposition grid\n",
    "    num_rows = len(plain_text) // key #3\n",
    "    if len(plain_text) % key != 0:    #30 % 8\n",
    "        num_rows += 1  #4\n",
    "\n",
    "    # Create the transposition grid\n",
    "    grid = []\n",
    "    for _ in range(num_rows):\n",
    "        row = []\n",
    "        for _ in range(key):\n",
    "            row.append(' ')\n",
    "        grid.append(row)\n",
    "\n",
    "    # Fill in the grid with characters from the plaintext \n",
    "    index = 0\n",
    "    for row in range(num_rows):\n",
    "        for col in range(key):\n",
    "            if index < len(plain_text):\n",
    "                grid[row][col] = plain_text[index]\n",
    "                index += 1\n",
    "\n",
    "    # Build the cipher text from the transposition grid\n",
    "    cipher_text = \"\"\n",
    "    for col in range(key):\n",
    "        for row in range(num_rows):\n",
    "            cipher_text += grid[row][col]\n",
    "\n",
    "    return cipher_text.replace(' ','♫') ,grid\n"
   ]
  },
  {
   "cell_type": "code",
   "execution_count": 13,
   "metadata": {},
   "outputs": [
    {
     "name": "stdout",
     "output_type": "stream",
     "text": [
      "Cipher Text: Cenoonommstmme♫oo♫snnio.♫s♫♫s♫c♫\n"
     ]
    }
   ],
   "source": [
    "plain_message = \"Common sense is not so common.\"\n",
    "key = 8\n",
    "\n",
    "cipher_message,grid = transposition_cipher(plain_message, key)\n",
    "print(\"Cipher Text:\", cipher_message)"
   ]
  },
  {
   "cell_type": "code",
   "execution_count": 14,
   "metadata": {},
   "outputs": [
    {
     "name": "stdout",
     "output_type": "stream",
     "text": [
      "['C', 'o', 'm', 'm', 'o', 'n', ' ', 's']\n",
      "['e', 'n', 's', 'e', ' ', 'i', 's', ' ']\n",
      "['n', 'o', 't', ' ', 's', 'o', ' ', 'c']\n",
      "['o', 'm', 'm', 'o', 'n', '.', ' ', ' ']\n"
     ]
    }
   ],
   "source": [
    "for row in grid:\n",
    "    print(row)"
   ]
  },
  {
   "cell_type": "code",
   "execution_count": 17,
   "metadata": {},
   "outputs": [],
   "source": [
    "def transposition_decipher(cipher_text, key):\n",
    "    # Calculate the number of rows in the transposition grid\n",
    "    num_rows = len(cipher_text) // key\n",
    "    if len(cipher_text) % key != 0:\n",
    "        num_rows += 1\n",
    "\n",
    "    # Create the transposition grid\n",
    "    grid = []\n",
    "    for _ in range(num_rows):\n",
    "        row = []\n",
    "        for _ in range(key):\n",
    "            row.append(' ')\n",
    "        grid.append(row)\n",
    "\n",
    "    # Fill in the grid with characters from the cipher text\n",
    "    index = 0\n",
    "    for col in range(key):\n",
    "        for row in range(num_rows):\n",
    "            if index < len(cipher_text):\n",
    "                grid[row][col] = cipher_text[index]\n",
    "                index += 1\n",
    "\n",
    "    # Build the plaintext from the transposition grid\n",
    "    plain_text = \"\"\n",
    "    for row in range(num_rows):\n",
    "        for col in range(key):\n",
    "            plain_text += grid[row][col]\n",
    "\n",
    "    # Remove any special symbol used to represent spaces\n",
    "    plain_text = plain_text.replace('♫', ' ')\n",
    "\n",
    "    return plain_text\n",
    "\n"
   ]
  },
  {
   "cell_type": "code",
   "execution_count": 18,
   "metadata": {},
   "outputs": [
    {
     "name": "stdout",
     "output_type": "stream",
     "text": [
      "Decoded Text: Common sense is not so common.  \n"
     ]
    }
   ],
   "source": [
    "key = 8\n",
    "decoded_text = transposition_decipher(cipher_message, key)\n",
    "print(\"Decoded Text:\", decoded_text)"
   ]
  }
 ],
 "metadata": {
  "kernelspec": {
   "display_name": "Python 3",
   "language": "python",
   "name": "python3"
  },
  "language_info": {
   "codemirror_mode": {
    "name": "ipython",
    "version": 3
   },
   "file_extension": ".py",
   "mimetype": "text/x-python",
   "name": "python",
   "nbconvert_exporter": "python",
   "pygments_lexer": "ipython3",
   "version": "3.10.8"
  }
 },
 "nbformat": 4,
 "nbformat_minor": 2
}
