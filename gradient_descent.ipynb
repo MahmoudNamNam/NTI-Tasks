{
 "cells": [
  {
   "cell_type": "code",
   "execution_count": 71,
   "metadata": {},
   "outputs": [],
   "source": [
    "import numpy as np\n",
    "import matplotlib.pyplot as plt"
   ]
  },
  {
   "cell_type": "code",
   "execution_count": 72,
   "metadata": {},
   "outputs": [],
   "source": [
    "def mean_squared_error(y_true, y_pred):\n",
    "    return np.mean((y_true - y_pred) ** 2)"
   ]
  },
  {
   "cell_type": "code",
   "execution_count": 73,
   "metadata": {},
   "outputs": [],
   "source": [
    "def gradient_descent(X, y, w, b, eta, epochs):\n",
    "    N = len(y)\n",
    "    losses = []\n",
    "    for _ in range(epochs):\n",
    "        y_pred = np.dot(X, w) + b\n",
    "        loss = mean_squared_error(y, y_pred)\n",
    "        losses.append(loss)\n",
    "        \n",
    "        dw = (-2/N) * np.dot(X.T, y - y_pred)\n",
    "        db = (-2/N) * np.sum(y - y_pred)\n",
    "        \n",
    "        w -= eta * dw\n",
    "        b -= eta * db\n",
    "        \n",
    "    return w, b, losses\n"
   ]
  },
  {
   "cell_type": "code",
   "execution_count": 74,
   "metadata": {},
   "outputs": [],
   "source": [
    "X = np.array([[1], [2], [3], [4], [5]])\n",
    "y = np.array([2, 4, 6, 8, 10])"
   ]
  },
  {
   "cell_type": "code",
   "execution_count": 75,
   "metadata": {},
   "outputs": [],
   "source": [
    "w = np.random.rand(1)  \n",
    "b = np.random.rand(1)"
   ]
  },
  {
   "cell_type": "code",
   "execution_count": 76,
   "metadata": {},
   "outputs": [],
   "source": [
    "eta = 0.1\n",
    "epochs = 100"
   ]
  },
  {
   "cell_type": "code",
   "execution_count": 77,
   "metadata": {},
   "outputs": [],
   "source": [
    "w_new, b_new, losses = gradient_descent(X, y, w, b, eta, epochs)"
   ]
  },
  {
   "cell_type": "code",
   "execution_count": 78,
   "metadata": {},
   "outputs": [
    {
     "name": "stdout",
     "output_type": "stream",
     "text": [
      "Final weights: [-4.26258257e+13]\n",
      "Final bias: [-1.18066702e+13]\n"
     ]
    }
   ],
   "source": [
    "print(\"Final weights:\", w_new)\n",
    "print(\"Final bias:\", b_new)"
   ]
  }
 ],
 "metadata": {
  "kernelspec": {
   "display_name": "Python 3",
   "language": "python",
   "name": "python3"
  },
  "language_info": {
   "codemirror_mode": {
    "name": "ipython",
    "version": 3
   },
   "file_extension": ".py",
   "mimetype": "text/x-python",
   "name": "python",
   "nbconvert_exporter": "python",
   "pygments_lexer": "ipython3",
   "version": "3.10.8"
  }
 },
 "nbformat": 4,
 "nbformat_minor": 2
}
